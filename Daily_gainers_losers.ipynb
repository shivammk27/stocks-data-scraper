{
  "nbformat": 4,
  "nbformat_minor": 0,
  "metadata": {
    "colab": {
      "provenance": []
    },
    "kernelspec": {
      "name": "python3",
      "display_name": "Python 3"
    },
    "language_info": {
      "name": "python"
    }
  },
  "cells": [
    {
      "cell_type": "code",
      "source": [
        "import requests\n",
        "from bs4 import BeautifulSoup\n",
        "import pandas as pd"
      ],
      "metadata": {
        "id": "Fq_OrRw5eYUr"
      },
      "execution_count": 36,
      "outputs": []
    },
    {
      "cell_type": "code",
      "source": [
        "def scrape_rediff_data(type, exchange):\n",
        "    if type not in ['gainers', 'losers']:\n",
        "        raise ValueError(\"Invalid type. Choose 'gainers' or 'losers'.\")\n",
        "    if exchange not in ['nse', 'bse']:\n",
        "        raise ValueError(\"Invalid exchange. Choose 'nse' or 'bse'.\")\n",
        "\n",
        "    url = f'https://money.rediff.com/{type}/{exchange}/daily/groupall'\n",
        "\n",
        "    response = requests.get(url)\n",
        "    html_content = response.text\n",
        "\n",
        "    soup = BeautifulSoup(html_content, 'html.parser')\n",
        "    table = soup.find('table', class_='dataTable')\n",
        "\n",
        "    if table:\n",
        "        first_column_data = []\n",
        "        third_column_data = []\n",
        "        fourth_column_data = []\n",
        "        fifth_column_data = []\n",
        "\n",
        "        for row in table.find_all('tr'):\n",
        "            columns = row.find_all('td')\n",
        "\n",
        "            if exchange == 'nse':\n",
        "                if len(columns) >= 5:\n",
        "                  first_column_data.append(columns[0].find('a').text.strip())\n",
        "                  third_column_data.append(columns[1].text.strip())\n",
        "                  fourth_column_data.append(columns[2].text.strip())\n",
        "                  fifth_column_data.append(columns[3].text.strip())\n",
        "            else:\n",
        "                if len(columns) >= 6:\n",
        "                  first_column_data.append(columns[0].find('a').text.strip())\n",
        "                  third_column_data.append(columns[2].text.strip())\n",
        "                  fourth_column_data.append(columns[3].text.strip())\n",
        "                  fifth_column_data.append(columns[4].text.strip())\n",
        "\n",
        "        df = pd.DataFrame({\n",
        "            'Company Name': first_column_data,\n",
        "            'Last Price': third_column_data,\n",
        "            'Change (price)': fourth_column_data,\n",
        "            'Change %': fifth_column_data\n",
        "        })\n",
        "\n",
        "        return df\n",
        "\n",
        "    else:\n",
        "        print(f\"Table with class 'dataTable' not found on {url}.\")\n",
        "        return None"
      ],
      "metadata": {
        "id": "V7QR2N6ZY3nZ"
      },
      "execution_count": 37,
      "outputs": []
    },
    {
      "cell_type": "code",
      "source": [
        "gainers_bse_df = scrape_rediff_data('gainers', 'bse')\n",
        "print(\"Gainers from BSE:\")\n",
        "print(gainers_bse_df.head(10))"
      ],
      "metadata": {
        "colab": {
          "base_uri": "https://localhost:8080/"
        },
        "id": "ltPc4qOCcc8T",
        "outputId": "e18d265b-dce7-4b9e-8f77-81739113f042"
      },
      "execution_count": 38,
      "outputs": [
        {
          "output_type": "stream",
          "name": "stdout",
          "text": [
            "Gainers from BSE:\n",
            "          Company Name Last Price Change (price)  Change %\n",
            "0      Lahoti Overseas      40.10          48.12  +  20.00\n",
            "1     Starteck Finance     292.30         350.75  +  20.00\n",
            "2     Windsor Machines     107.70         129.24  +  20.00\n",
            "3     Sharda Ispat Ltd     412.25         494.70  +  20.00\n",
            "4      City Crops Agro      26.20          31.44  +  20.00\n",
            "5        Kalyani Forge     554.55         665.45  +  20.00\n",
            "6   Fino Payments Bank     284.85         341.80  +  19.99\n",
            "7     Orient Tradelink       8.48          10.17  +  19.93\n",
            "8       HIM Teknoforge     147.95         171.35  +  15.82\n",
            "9  Innovatus Entertain      32.00          36.99  +  15.59\n"
          ]
        }
      ]
    },
    {
      "cell_type": "code",
      "source": [
        "losers_bse_df = scrape_rediff_data('losers', 'bse')\n",
        "print(\"Gainers from BSE:\")\n",
        "print(losers_bse_df.head(10))"
      ],
      "metadata": {
        "colab": {
          "base_uri": "https://localhost:8080/"
        },
        "id": "N4KvXBScceIE",
        "outputId": "03d8484b-de68-434b-de0f-59cb092856b0"
      },
      "execution_count": 39,
      "outputs": [
        {
          "output_type": "stream",
          "name": "stdout",
          "text": [
            "Gainers from BSE:\n",
            "           Company Name Last Price Change (price) Change %\n",
            "0     Inditrade Capital      27.21          21.77   -19.99\n",
            "1        Jetmall Spices      13.25          10.81   -18.42\n",
            "2      Banas Finance Lt      11.95          10.48   -12.30\n",
            "3  GCM Capital Advisors       8.20           7.38   -10.00\n",
            "4  Money Masters Leasin     135.95         122.40    -9.97\n",
            "5  S & T Corporation Lt      32.09          28.95    -9.78\n",
            "6  Chandra Bhagat Pharm      95.40          86.45    -9.38\n",
            "7  KP Green Engineering     636.95         577.25    -9.37\n",
            "8         Shelter Infra      11.55          10.51    -9.00\n",
            "9      Coral Newsprints      12.50          11.41    -8.72\n"
          ]
        }
      ]
    },
    {
      "cell_type": "code",
      "source": [
        "gainers_nse_df = scrape_rediff_data('gainers', 'nse')\n",
        "print(\"\\nLosers from NSE:\")\n",
        "print(gainers_nse_df.head(10))"
      ],
      "metadata": {
        "colab": {
          "base_uri": "https://localhost:8080/"
        },
        "id": "2U0de5crZ-mJ",
        "outputId": "a2519151-b573-4e14-8b67-bc6973c38b92"
      },
      "execution_count": 40,
      "outputs": [
        {
          "output_type": "stream",
          "name": "stdout",
          "text": [
            "\n",
            "Losers from NSE:\n",
            "          Company Name Last Price Change (price) Change %\n",
            "0   Fino Payments Bank     285.05         342.05   +20.00\n",
            "1        Kalyani Forge      552.6         663.10   +20.00\n",
            "2     Starteck Finance     292.32         350.78   +20.00\n",
            "3     Windsor Machines     107.83         129.39   +19.99\n",
            "4       Tirupati Forge      22.52          27.02   +19.98\n",
            "5   MITCON Consultancy      156.3         182.29   +16.63\n",
            "6        Tera Software      81.52          93.37   +14.54\n",
            "7     Khaitan Chemical      68.23          76.86   +12.65\n",
            "8      Rama Phosphates     192.56         215.29   +11.80\n",
            "9  LE Travenues Techno     165.72         184.86   +11.55\n"
          ]
        }
      ]
    },
    {
      "cell_type": "code",
      "source": [
        "losers_nse_df = scrape_rediff_data('losers', 'nse')\n",
        "print(\"\\nLosers from NSE:\")\n",
        "print(losers_nse_df.head(10))"
      ],
      "metadata": {
        "colab": {
          "base_uri": "https://localhost:8080/"
        },
        "id": "7FqHYNtKclRn",
        "outputId": "42f9d691-d39d-4b79-e035-e133353b97c2"
      },
      "execution_count": 41,
      "outputs": [
        {
          "output_type": "stream",
          "name": "stdout",
          "text": [
            "\n",
            "Losers from NSE:\n",
            "           Company Name Last Price Change (price) Change %\n",
            "0     Kamdhenu Ventures      39.88          36.90    -7.47\n",
            "1      Bhandari Hosiery       8.73           8.12    -6.99\n",
            "2    Motisons Jewellers     184.65         172.34    -6.67\n",
            "3                 Sobha     2159.7       2,018.65    -6.53\n",
            "4  ZF Commercial Vehicl   17277.15      16,244.85    -5.97\n",
            "5       Motor & General      35.83          33.70    -5.94\n",
            "6      Man Industries I     419.45         396.15    -5.55\n",
            "7  Inventure Growth & S       2.89           2.73    -5.54\n",
            "8        KEI Industries     4690.3       4,435.35    -5.44\n",
            "9     Authum Investment    1067.55       1,009.95    -5.40\n"
          ]
        }
      ]
    },
    {
      "cell_type": "markdown",
      "source": [
        "## Saving them to csv"
      ],
      "metadata": {
        "id": "3YBwFkE0c6j3"
      }
    },
    {
      "cell_type": "code",
      "source": [
        "gainers_bse_df.to_csv('Gainers_BSE.csv', index=False)\n",
        "losers_bse_df.to_csv('Losers_BSE.csv', index=False)\n",
        "gainers_nse_df.to_csv('Gainers_NSE.csv', index=False)\n",
        "losers_nse_df.to_csv('Losers_NSE.csv', index=False)\n",
        "\n",
        "print(\"DataFrames have been saved to CSV files.\")"
      ],
      "metadata": {
        "colab": {
          "base_uri": "https://localhost:8080/"
        },
        "id": "gyw1GKMLcsAJ",
        "outputId": "7e2fb231-75cf-42fd-b9d1-2841c8accb15"
      },
      "execution_count": 42,
      "outputs": [
        {
          "output_type": "stream",
          "name": "stdout",
          "text": [
            "DataFrames have been saved to CSV files.\n"
          ]
        }
      ]
    },
    {
      "cell_type": "code",
      "source": [],
      "metadata": {
        "id": "zVC7LiDfdG_X"
      },
      "execution_count": 42,
      "outputs": []
    }
  ]
}